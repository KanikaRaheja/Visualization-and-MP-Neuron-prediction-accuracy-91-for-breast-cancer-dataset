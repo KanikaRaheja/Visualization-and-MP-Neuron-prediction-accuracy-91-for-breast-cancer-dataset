{
 "cells": [
  {
   "cell_type": "code",
   "execution_count": 1,
   "id": "robust-congress",
   "metadata": {
    "_cell_guid": "b1076dfc-b9ad-4769-8c92-a6c4dae69d19",
    "_uuid": "8f2839f25d086af736a60e9eeb907d3b93b6e0e5",
    "execution": {
     "iopub.execute_input": "2021-06-11T19:51:13.088558Z",
     "iopub.status.busy": "2021-06-11T19:51:13.087730Z",
     "iopub.status.idle": "2021-06-11T19:51:13.103542Z",
     "shell.execute_reply": "2021-06-11T19:51:13.102867Z",
     "shell.execute_reply.started": "2021-06-11T19:02:15.513858Z"
    },
    "papermill": {
     "duration": 0.046382,
     "end_time": "2021-06-11T19:51:13.103710",
     "exception": false,
     "start_time": "2021-06-11T19:51:13.057328",
     "status": "completed"
    },
    "tags": []
   },
   "outputs": [
    {
     "name": "stdout",
     "output_type": "stream",
     "text": [
      "/kaggle/input/breast-cancer-wisconsin-data/data.csv\n"
     ]
    }
   ],
   "source": [
    "# This Python 3 environment comes with many helpful analytics libraries installed\n",
    "# It is defined by the kaggle/python Docker image: https://github.com/kaggle/docker-python\n",
    "# For example, here's several helpful packages to load\n",
    "\n",
    "import numpy as np # linear algebra\n",
    "import pandas as pd # data processing, CSV file I/O (e.g. pd.read_csv)\n",
    "\n",
    "# Input data files are available in the read-only \"../input/\" directory\n",
    "# For example, running this (by clicking run or pressing Shift+Enter) will list all files under the input directory\n",
    "\n",
    "import os\n",
    "for dirname, _, filenames in os.walk('/kaggle/input'):\n",
    "    for filename in filenames:\n",
    "        print(os.path.join(dirname, filename))\n",
    "\n",
    "# You can write up to 20GB to the current directory (/kaggle/working/) that gets preserved as output when you create a version using \"Save & Run All\" \n",
    "# You can also write temporary files to /kaggle/temp/, but they won't be saved outside of the current session"
   ]
  },
  {
   "cell_type": "code",
   "execution_count": 2,
   "id": "virtual-herald",
   "metadata": {
    "execution": {
     "iopub.execute_input": "2021-06-11T19:51:13.148027Z",
     "iopub.status.busy": "2021-06-11T19:51:13.147426Z",
     "iopub.status.idle": "2021-06-11T19:51:15.398709Z",
     "shell.execute_reply": "2021-06-11T19:51:15.398179Z",
     "shell.execute_reply.started": "2021-06-11T19:02:15.527221Z"
    },
    "papermill": {
     "duration": 2.274173,
     "end_time": "2021-06-11T19:51:15.398921",
     "exception": false,
     "start_time": "2021-06-11T19:51:13.124748",
     "status": "completed"
    },
    "tags": []
   },
   "outputs": [],
   "source": [
    "import numpy as np\n",
    "import pandas as pd\n",
    "import seaborn as sns\n",
    "import matplotlib.pyplot as plt\n",
    "import plotly.express as px"
   ]
  },
  {
   "cell_type": "code",
   "execution_count": 3,
   "id": "numerical-annotation",
   "metadata": {
    "execution": {
     "iopub.execute_input": "2021-06-11T19:51:15.448365Z",
     "iopub.status.busy": "2021-06-11T19:51:15.447698Z",
     "iopub.status.idle": "2021-06-11T19:51:15.470165Z",
     "shell.execute_reply": "2021-06-11T19:51:15.469519Z",
     "shell.execute_reply.started": "2021-06-11T19:02:15.546892Z"
    },
    "papermill": {
     "duration": 0.048145,
     "end_time": "2021-06-11T19:51:15.470317",
     "exception": false,
     "start_time": "2021-06-11T19:51:15.422172",
     "status": "completed"
    },
    "tags": []
   },
   "outputs": [],
   "source": [
    "df=pd.read_csv('../input/breast-cancer-wisconsin-data/data.csv')"
   ]
  },
  {
   "cell_type": "code",
   "execution_count": 4,
   "id": "stylish-nancy",
   "metadata": {
    "execution": {
     "iopub.execute_input": "2021-06-11T19:51:15.529904Z",
     "iopub.status.busy": "2021-06-11T19:51:15.521337Z",
     "iopub.status.idle": "2021-06-11T19:51:15.560576Z",
     "shell.execute_reply": "2021-06-11T19:51:15.561029Z",
     "shell.execute_reply.started": "2021-06-11T19:02:15.574219Z"
    },
    "papermill": {
     "duration": 0.069796,
     "end_time": "2021-06-11T19:51:15.561306",
     "exception": false,
     "start_time": "2021-06-11T19:51:15.491510",
     "status": "completed"
    },
    "tags": []
   },
   "outputs": [
    {
     "data": {
      "text/html": [
       "<div>\n",
       "<style scoped>\n",
       "    .dataframe tbody tr th:only-of-type {\n",
       "        vertical-align: middle;\n",
       "    }\n",
       "\n",
       "    .dataframe tbody tr th {\n",
       "        vertical-align: top;\n",
       "    }\n",
       "\n",
       "    .dataframe thead th {\n",
       "        text-align: right;\n",
       "    }\n",
       "</style>\n",
       "<table border=\"1\" class=\"dataframe\">\n",
       "  <thead>\n",
       "    <tr style=\"text-align: right;\">\n",
       "      <th></th>\n",
       "      <th>id</th>\n",
       "      <th>diagnosis</th>\n",
       "      <th>radius_mean</th>\n",
       "      <th>texture_mean</th>\n",
       "      <th>perimeter_mean</th>\n",
       "      <th>area_mean</th>\n",
       "      <th>smoothness_mean</th>\n",
       "      <th>compactness_mean</th>\n",
       "      <th>concavity_mean</th>\n",
       "      <th>concave points_mean</th>\n",
       "      <th>...</th>\n",
       "      <th>texture_worst</th>\n",
       "      <th>perimeter_worst</th>\n",
       "      <th>area_worst</th>\n",
       "      <th>smoothness_worst</th>\n",
       "      <th>compactness_worst</th>\n",
       "      <th>concavity_worst</th>\n",
       "      <th>concave points_worst</th>\n",
       "      <th>symmetry_worst</th>\n",
       "      <th>fractal_dimension_worst</th>\n",
       "      <th>Unnamed: 32</th>\n",
       "    </tr>\n",
       "  </thead>\n",
       "  <tbody>\n",
       "    <tr>\n",
       "      <th>0</th>\n",
       "      <td>842302</td>\n",
       "      <td>M</td>\n",
       "      <td>17.99</td>\n",
       "      <td>10.38</td>\n",
       "      <td>122.80</td>\n",
       "      <td>1001.0</td>\n",
       "      <td>0.11840</td>\n",
       "      <td>0.27760</td>\n",
       "      <td>0.3001</td>\n",
       "      <td>0.14710</td>\n",
       "      <td>...</td>\n",
       "      <td>17.33</td>\n",
       "      <td>184.60</td>\n",
       "      <td>2019.0</td>\n",
       "      <td>0.1622</td>\n",
       "      <td>0.6656</td>\n",
       "      <td>0.7119</td>\n",
       "      <td>0.2654</td>\n",
       "      <td>0.4601</td>\n",
       "      <td>0.11890</td>\n",
       "      <td>NaN</td>\n",
       "    </tr>\n",
       "    <tr>\n",
       "      <th>1</th>\n",
       "      <td>842517</td>\n",
       "      <td>M</td>\n",
       "      <td>20.57</td>\n",
       "      <td>17.77</td>\n",
       "      <td>132.90</td>\n",
       "      <td>1326.0</td>\n",
       "      <td>0.08474</td>\n",
       "      <td>0.07864</td>\n",
       "      <td>0.0869</td>\n",
       "      <td>0.07017</td>\n",
       "      <td>...</td>\n",
       "      <td>23.41</td>\n",
       "      <td>158.80</td>\n",
       "      <td>1956.0</td>\n",
       "      <td>0.1238</td>\n",
       "      <td>0.1866</td>\n",
       "      <td>0.2416</td>\n",
       "      <td>0.1860</td>\n",
       "      <td>0.2750</td>\n",
       "      <td>0.08902</td>\n",
       "      <td>NaN</td>\n",
       "    </tr>\n",
       "    <tr>\n",
       "      <th>2</th>\n",
       "      <td>84300903</td>\n",
       "      <td>M</td>\n",
       "      <td>19.69</td>\n",
       "      <td>21.25</td>\n",
       "      <td>130.00</td>\n",
       "      <td>1203.0</td>\n",
       "      <td>0.10960</td>\n",
       "      <td>0.15990</td>\n",
       "      <td>0.1974</td>\n",
       "      <td>0.12790</td>\n",
       "      <td>...</td>\n",
       "      <td>25.53</td>\n",
       "      <td>152.50</td>\n",
       "      <td>1709.0</td>\n",
       "      <td>0.1444</td>\n",
       "      <td>0.4245</td>\n",
       "      <td>0.4504</td>\n",
       "      <td>0.2430</td>\n",
       "      <td>0.3613</td>\n",
       "      <td>0.08758</td>\n",
       "      <td>NaN</td>\n",
       "    </tr>\n",
       "    <tr>\n",
       "      <th>3</th>\n",
       "      <td>84348301</td>\n",
       "      <td>M</td>\n",
       "      <td>11.42</td>\n",
       "      <td>20.38</td>\n",
       "      <td>77.58</td>\n",
       "      <td>386.1</td>\n",
       "      <td>0.14250</td>\n",
       "      <td>0.28390</td>\n",
       "      <td>0.2414</td>\n",
       "      <td>0.10520</td>\n",
       "      <td>...</td>\n",
       "      <td>26.50</td>\n",
       "      <td>98.87</td>\n",
       "      <td>567.7</td>\n",
       "      <td>0.2098</td>\n",
       "      <td>0.8663</td>\n",
       "      <td>0.6869</td>\n",
       "      <td>0.2575</td>\n",
       "      <td>0.6638</td>\n",
       "      <td>0.17300</td>\n",
       "      <td>NaN</td>\n",
       "    </tr>\n",
       "    <tr>\n",
       "      <th>4</th>\n",
       "      <td>84358402</td>\n",
       "      <td>M</td>\n",
       "      <td>20.29</td>\n",
       "      <td>14.34</td>\n",
       "      <td>135.10</td>\n",
       "      <td>1297.0</td>\n",
       "      <td>0.10030</td>\n",
       "      <td>0.13280</td>\n",
       "      <td>0.1980</td>\n",
       "      <td>0.10430</td>\n",
       "      <td>...</td>\n",
       "      <td>16.67</td>\n",
       "      <td>152.20</td>\n",
       "      <td>1575.0</td>\n",
       "      <td>0.1374</td>\n",
       "      <td>0.2050</td>\n",
       "      <td>0.4000</td>\n",
       "      <td>0.1625</td>\n",
       "      <td>0.2364</td>\n",
       "      <td>0.07678</td>\n",
       "      <td>NaN</td>\n",
       "    </tr>\n",
       "  </tbody>\n",
       "</table>\n",
       "<p>5 rows × 33 columns</p>\n",
       "</div>"
      ],
      "text/plain": [
       "         id diagnosis  radius_mean  texture_mean  perimeter_mean  area_mean  \\\n",
       "0    842302         M        17.99         10.38          122.80     1001.0   \n",
       "1    842517         M        20.57         17.77          132.90     1326.0   \n",
       "2  84300903         M        19.69         21.25          130.00     1203.0   \n",
       "3  84348301         M        11.42         20.38           77.58      386.1   \n",
       "4  84358402         M        20.29         14.34          135.10     1297.0   \n",
       "\n",
       "   smoothness_mean  compactness_mean  concavity_mean  concave points_mean  \\\n",
       "0          0.11840           0.27760          0.3001              0.14710   \n",
       "1          0.08474           0.07864          0.0869              0.07017   \n",
       "2          0.10960           0.15990          0.1974              0.12790   \n",
       "3          0.14250           0.28390          0.2414              0.10520   \n",
       "4          0.10030           0.13280          0.1980              0.10430   \n",
       "\n",
       "   ...  texture_worst  perimeter_worst  area_worst  smoothness_worst  \\\n",
       "0  ...          17.33           184.60      2019.0            0.1622   \n",
       "1  ...          23.41           158.80      1956.0            0.1238   \n",
       "2  ...          25.53           152.50      1709.0            0.1444   \n",
       "3  ...          26.50            98.87       567.7            0.2098   \n",
       "4  ...          16.67           152.20      1575.0            0.1374   \n",
       "\n",
       "   compactness_worst  concavity_worst  concave points_worst  symmetry_worst  \\\n",
       "0             0.6656           0.7119                0.2654          0.4601   \n",
       "1             0.1866           0.2416                0.1860          0.2750   \n",
       "2             0.4245           0.4504                0.2430          0.3613   \n",
       "3             0.8663           0.6869                0.2575          0.6638   \n",
       "4             0.2050           0.4000                0.1625          0.2364   \n",
       "\n",
       "   fractal_dimension_worst  Unnamed: 32  \n",
       "0                  0.11890          NaN  \n",
       "1                  0.08902          NaN  \n",
       "2                  0.08758          NaN  \n",
       "3                  0.17300          NaN  \n",
       "4                  0.07678          NaN  \n",
       "\n",
       "[5 rows x 33 columns]"
      ]
     },
     "execution_count": 4,
     "metadata": {},
     "output_type": "execute_result"
    }
   ],
   "source": [
    "df.head()"
   ]
  },
  {
   "cell_type": "code",
   "execution_count": 5,
   "id": "french-torture",
   "metadata": {
    "execution": {
     "iopub.execute_input": "2021-06-11T19:51:15.621901Z",
     "iopub.status.busy": "2021-06-11T19:51:15.610438Z",
     "iopub.status.idle": "2021-06-11T19:51:15.627768Z",
     "shell.execute_reply": "2021-06-11T19:51:15.627158Z",
     "shell.execute_reply.started": "2021-06-11T19:02:15.609772Z"
    },
    "papermill": {
     "duration": 0.04363,
     "end_time": "2021-06-11T19:51:15.627930",
     "exception": false,
     "start_time": "2021-06-11T19:51:15.584300",
     "status": "completed"
    },
    "tags": []
   },
   "outputs": [
    {
     "name": "stdout",
     "output_type": "stream",
     "text": [
      "         id diagnosis  radius_mean  texture_mean  perimeter_mean  area_mean  \\\n",
      "0    842302         M        17.99         10.38          122.80     1001.0   \n",
      "1    842517         M        20.57         17.77          132.90     1326.0   \n",
      "2  84300903         M        19.69         21.25          130.00     1203.0   \n",
      "3  84348301         M        11.42         20.38           77.58      386.1   \n",
      "4  84358402         M        20.29         14.34          135.10     1297.0   \n",
      "\n",
      "   smoothness_mean  compactness_mean  concavity_mean  concave points_mean  \\\n",
      "0          0.11840           0.27760          0.3001              0.14710   \n",
      "1          0.08474           0.07864          0.0869              0.07017   \n",
      "2          0.10960           0.15990          0.1974              0.12790   \n",
      "3          0.14250           0.28390          0.2414              0.10520   \n",
      "4          0.10030           0.13280          0.1980              0.10430   \n",
      "\n",
      "   ...  texture_worst  perimeter_worst  area_worst  smoothness_worst  \\\n",
      "0  ...          17.33           184.60      2019.0            0.1622   \n",
      "1  ...          23.41           158.80      1956.0            0.1238   \n",
      "2  ...          25.53           152.50      1709.0            0.1444   \n",
      "3  ...          26.50            98.87       567.7            0.2098   \n",
      "4  ...          16.67           152.20      1575.0            0.1374   \n",
      "\n",
      "   compactness_worst  concavity_worst  concave points_worst  symmetry_worst  \\\n",
      "0             0.6656           0.7119                0.2654          0.4601   \n",
      "1             0.1866           0.2416                0.1860          0.2750   \n",
      "2             0.4245           0.4504                0.2430          0.3613   \n",
      "3             0.8663           0.6869                0.2575          0.6638   \n",
      "4             0.2050           0.4000                0.1625          0.2364   \n",
      "\n",
      "   fractal_dimension_worst  Unnamed: 32  \n",
      "0                  0.11890          NaN  \n",
      "1                  0.08902          NaN  \n",
      "2                  0.08758          NaN  \n",
      "3                  0.17300          NaN  \n",
      "4                  0.07678          NaN  \n",
      "\n",
      "[5 rows x 33 columns]\n"
     ]
    }
   ],
   "source": [
    "print(df.head())"
   ]
  },
  {
   "cell_type": "code",
   "execution_count": 6,
   "id": "downtown-turkey",
   "metadata": {
    "execution": {
     "iopub.execute_input": "2021-06-11T19:51:15.682713Z",
     "iopub.status.busy": "2021-06-11T19:51:15.682090Z",
     "iopub.status.idle": "2021-06-11T19:51:15.768038Z",
     "shell.execute_reply": "2021-06-11T19:51:15.767510Z",
     "shell.execute_reply.started": "2021-06-11T19:02:15.630342Z"
    },
    "papermill": {
     "duration": 0.117269,
     "end_time": "2021-06-11T19:51:15.768183",
     "exception": false,
     "start_time": "2021-06-11T19:51:15.650914",
     "status": "completed"
    },
    "tags": []
   },
   "outputs": [
    {
     "data": {
      "text/html": [
       "<div>\n",
       "<style scoped>\n",
       "    .dataframe tbody tr th:only-of-type {\n",
       "        vertical-align: middle;\n",
       "    }\n",
       "\n",
       "    .dataframe tbody tr th {\n",
       "        vertical-align: top;\n",
       "    }\n",
       "\n",
       "    .dataframe thead th {\n",
       "        text-align: right;\n",
       "    }\n",
       "</style>\n",
       "<table border=\"1\" class=\"dataframe\">\n",
       "  <thead>\n",
       "    <tr style=\"text-align: right;\">\n",
       "      <th></th>\n",
       "      <th>id</th>\n",
       "      <th>radius_mean</th>\n",
       "      <th>texture_mean</th>\n",
       "      <th>perimeter_mean</th>\n",
       "      <th>area_mean</th>\n",
       "      <th>smoothness_mean</th>\n",
       "      <th>compactness_mean</th>\n",
       "      <th>concavity_mean</th>\n",
       "      <th>concave points_mean</th>\n",
       "      <th>symmetry_mean</th>\n",
       "      <th>...</th>\n",
       "      <th>texture_worst</th>\n",
       "      <th>perimeter_worst</th>\n",
       "      <th>area_worst</th>\n",
       "      <th>smoothness_worst</th>\n",
       "      <th>compactness_worst</th>\n",
       "      <th>concavity_worst</th>\n",
       "      <th>concave points_worst</th>\n",
       "      <th>symmetry_worst</th>\n",
       "      <th>fractal_dimension_worst</th>\n",
       "      <th>Unnamed: 32</th>\n",
       "    </tr>\n",
       "  </thead>\n",
       "  <tbody>\n",
       "    <tr>\n",
       "      <th>count</th>\n",
       "      <td>5.690000e+02</td>\n",
       "      <td>569.000000</td>\n",
       "      <td>569.000000</td>\n",
       "      <td>569.000000</td>\n",
       "      <td>569.000000</td>\n",
       "      <td>569.000000</td>\n",
       "      <td>569.000000</td>\n",
       "      <td>569.000000</td>\n",
       "      <td>569.000000</td>\n",
       "      <td>569.000000</td>\n",
       "      <td>...</td>\n",
       "      <td>569.000000</td>\n",
       "      <td>569.000000</td>\n",
       "      <td>569.000000</td>\n",
       "      <td>569.000000</td>\n",
       "      <td>569.000000</td>\n",
       "      <td>569.000000</td>\n",
       "      <td>569.000000</td>\n",
       "      <td>569.000000</td>\n",
       "      <td>569.000000</td>\n",
       "      <td>0.0</td>\n",
       "    </tr>\n",
       "    <tr>\n",
       "      <th>mean</th>\n",
       "      <td>3.037183e+07</td>\n",
       "      <td>14.127292</td>\n",
       "      <td>19.289649</td>\n",
       "      <td>91.969033</td>\n",
       "      <td>654.889104</td>\n",
       "      <td>0.096360</td>\n",
       "      <td>0.104341</td>\n",
       "      <td>0.088799</td>\n",
       "      <td>0.048919</td>\n",
       "      <td>0.181162</td>\n",
       "      <td>...</td>\n",
       "      <td>25.677223</td>\n",
       "      <td>107.261213</td>\n",
       "      <td>880.583128</td>\n",
       "      <td>0.132369</td>\n",
       "      <td>0.254265</td>\n",
       "      <td>0.272188</td>\n",
       "      <td>0.114606</td>\n",
       "      <td>0.290076</td>\n",
       "      <td>0.083946</td>\n",
       "      <td>NaN</td>\n",
       "    </tr>\n",
       "    <tr>\n",
       "      <th>std</th>\n",
       "      <td>1.250206e+08</td>\n",
       "      <td>3.524049</td>\n",
       "      <td>4.301036</td>\n",
       "      <td>24.298981</td>\n",
       "      <td>351.914129</td>\n",
       "      <td>0.014064</td>\n",
       "      <td>0.052813</td>\n",
       "      <td>0.079720</td>\n",
       "      <td>0.038803</td>\n",
       "      <td>0.027414</td>\n",
       "      <td>...</td>\n",
       "      <td>6.146258</td>\n",
       "      <td>33.602542</td>\n",
       "      <td>569.356993</td>\n",
       "      <td>0.022832</td>\n",
       "      <td>0.157336</td>\n",
       "      <td>0.208624</td>\n",
       "      <td>0.065732</td>\n",
       "      <td>0.061867</td>\n",
       "      <td>0.018061</td>\n",
       "      <td>NaN</td>\n",
       "    </tr>\n",
       "    <tr>\n",
       "      <th>min</th>\n",
       "      <td>8.670000e+03</td>\n",
       "      <td>6.981000</td>\n",
       "      <td>9.710000</td>\n",
       "      <td>43.790000</td>\n",
       "      <td>143.500000</td>\n",
       "      <td>0.052630</td>\n",
       "      <td>0.019380</td>\n",
       "      <td>0.000000</td>\n",
       "      <td>0.000000</td>\n",
       "      <td>0.106000</td>\n",
       "      <td>...</td>\n",
       "      <td>12.020000</td>\n",
       "      <td>50.410000</td>\n",
       "      <td>185.200000</td>\n",
       "      <td>0.071170</td>\n",
       "      <td>0.027290</td>\n",
       "      <td>0.000000</td>\n",
       "      <td>0.000000</td>\n",
       "      <td>0.156500</td>\n",
       "      <td>0.055040</td>\n",
       "      <td>NaN</td>\n",
       "    </tr>\n",
       "    <tr>\n",
       "      <th>25%</th>\n",
       "      <td>8.692180e+05</td>\n",
       "      <td>11.700000</td>\n",
       "      <td>16.170000</td>\n",
       "      <td>75.170000</td>\n",
       "      <td>420.300000</td>\n",
       "      <td>0.086370</td>\n",
       "      <td>0.064920</td>\n",
       "      <td>0.029560</td>\n",
       "      <td>0.020310</td>\n",
       "      <td>0.161900</td>\n",
       "      <td>...</td>\n",
       "      <td>21.080000</td>\n",
       "      <td>84.110000</td>\n",
       "      <td>515.300000</td>\n",
       "      <td>0.116600</td>\n",
       "      <td>0.147200</td>\n",
       "      <td>0.114500</td>\n",
       "      <td>0.064930</td>\n",
       "      <td>0.250400</td>\n",
       "      <td>0.071460</td>\n",
       "      <td>NaN</td>\n",
       "    </tr>\n",
       "    <tr>\n",
       "      <th>50%</th>\n",
       "      <td>9.060240e+05</td>\n",
       "      <td>13.370000</td>\n",
       "      <td>18.840000</td>\n",
       "      <td>86.240000</td>\n",
       "      <td>551.100000</td>\n",
       "      <td>0.095870</td>\n",
       "      <td>0.092630</td>\n",
       "      <td>0.061540</td>\n",
       "      <td>0.033500</td>\n",
       "      <td>0.179200</td>\n",
       "      <td>...</td>\n",
       "      <td>25.410000</td>\n",
       "      <td>97.660000</td>\n",
       "      <td>686.500000</td>\n",
       "      <td>0.131300</td>\n",
       "      <td>0.211900</td>\n",
       "      <td>0.226700</td>\n",
       "      <td>0.099930</td>\n",
       "      <td>0.282200</td>\n",
       "      <td>0.080040</td>\n",
       "      <td>NaN</td>\n",
       "    </tr>\n",
       "    <tr>\n",
       "      <th>75%</th>\n",
       "      <td>8.813129e+06</td>\n",
       "      <td>15.780000</td>\n",
       "      <td>21.800000</td>\n",
       "      <td>104.100000</td>\n",
       "      <td>782.700000</td>\n",
       "      <td>0.105300</td>\n",
       "      <td>0.130400</td>\n",
       "      <td>0.130700</td>\n",
       "      <td>0.074000</td>\n",
       "      <td>0.195700</td>\n",
       "      <td>...</td>\n",
       "      <td>29.720000</td>\n",
       "      <td>125.400000</td>\n",
       "      <td>1084.000000</td>\n",
       "      <td>0.146000</td>\n",
       "      <td>0.339100</td>\n",
       "      <td>0.382900</td>\n",
       "      <td>0.161400</td>\n",
       "      <td>0.317900</td>\n",
       "      <td>0.092080</td>\n",
       "      <td>NaN</td>\n",
       "    </tr>\n",
       "    <tr>\n",
       "      <th>max</th>\n",
       "      <td>9.113205e+08</td>\n",
       "      <td>28.110000</td>\n",
       "      <td>39.280000</td>\n",
       "      <td>188.500000</td>\n",
       "      <td>2501.000000</td>\n",
       "      <td>0.163400</td>\n",
       "      <td>0.345400</td>\n",
       "      <td>0.426800</td>\n",
       "      <td>0.201200</td>\n",
       "      <td>0.304000</td>\n",
       "      <td>...</td>\n",
       "      <td>49.540000</td>\n",
       "      <td>251.200000</td>\n",
       "      <td>4254.000000</td>\n",
       "      <td>0.222600</td>\n",
       "      <td>1.058000</td>\n",
       "      <td>1.252000</td>\n",
       "      <td>0.291000</td>\n",
       "      <td>0.663800</td>\n",
       "      <td>0.207500</td>\n",
       "      <td>NaN</td>\n",
       "    </tr>\n",
       "  </tbody>\n",
       "</table>\n",
       "<p>8 rows × 32 columns</p>\n",
       "</div>"
      ],
      "text/plain": [
       "                 id  radius_mean  texture_mean  perimeter_mean    area_mean  \\\n",
       "count  5.690000e+02   569.000000    569.000000      569.000000   569.000000   \n",
       "mean   3.037183e+07    14.127292     19.289649       91.969033   654.889104   \n",
       "std    1.250206e+08     3.524049      4.301036       24.298981   351.914129   \n",
       "min    8.670000e+03     6.981000      9.710000       43.790000   143.500000   \n",
       "25%    8.692180e+05    11.700000     16.170000       75.170000   420.300000   \n",
       "50%    9.060240e+05    13.370000     18.840000       86.240000   551.100000   \n",
       "75%    8.813129e+06    15.780000     21.800000      104.100000   782.700000   \n",
       "max    9.113205e+08    28.110000     39.280000      188.500000  2501.000000   \n",
       "\n",
       "       smoothness_mean  compactness_mean  concavity_mean  concave points_mean  \\\n",
       "count       569.000000        569.000000      569.000000           569.000000   \n",
       "mean          0.096360          0.104341        0.088799             0.048919   \n",
       "std           0.014064          0.052813        0.079720             0.038803   \n",
       "min           0.052630          0.019380        0.000000             0.000000   \n",
       "25%           0.086370          0.064920        0.029560             0.020310   \n",
       "50%           0.095870          0.092630        0.061540             0.033500   \n",
       "75%           0.105300          0.130400        0.130700             0.074000   \n",
       "max           0.163400          0.345400        0.426800             0.201200   \n",
       "\n",
       "       symmetry_mean  ...  texture_worst  perimeter_worst   area_worst  \\\n",
       "count     569.000000  ...     569.000000       569.000000   569.000000   \n",
       "mean        0.181162  ...      25.677223       107.261213   880.583128   \n",
       "std         0.027414  ...       6.146258        33.602542   569.356993   \n",
       "min         0.106000  ...      12.020000        50.410000   185.200000   \n",
       "25%         0.161900  ...      21.080000        84.110000   515.300000   \n",
       "50%         0.179200  ...      25.410000        97.660000   686.500000   \n",
       "75%         0.195700  ...      29.720000       125.400000  1084.000000   \n",
       "max         0.304000  ...      49.540000       251.200000  4254.000000   \n",
       "\n",
       "       smoothness_worst  compactness_worst  concavity_worst  \\\n",
       "count        569.000000         569.000000       569.000000   \n",
       "mean           0.132369           0.254265         0.272188   \n",
       "std            0.022832           0.157336         0.208624   \n",
       "min            0.071170           0.027290         0.000000   \n",
       "25%            0.116600           0.147200         0.114500   \n",
       "50%            0.131300           0.211900         0.226700   \n",
       "75%            0.146000           0.339100         0.382900   \n",
       "max            0.222600           1.058000         1.252000   \n",
       "\n",
       "       concave points_worst  symmetry_worst  fractal_dimension_worst  \\\n",
       "count            569.000000      569.000000               569.000000   \n",
       "mean               0.114606        0.290076                 0.083946   \n",
       "std                0.065732        0.061867                 0.018061   \n",
       "min                0.000000        0.156500                 0.055040   \n",
       "25%                0.064930        0.250400                 0.071460   \n",
       "50%                0.099930        0.282200                 0.080040   \n",
       "75%                0.161400        0.317900                 0.092080   \n",
       "max                0.291000        0.663800                 0.207500   \n",
       "\n",
       "       Unnamed: 32  \n",
       "count          0.0  \n",
       "mean           NaN  \n",
       "std            NaN  \n",
       "min            NaN  \n",
       "25%            NaN  \n",
       "50%            NaN  \n",
       "75%            NaN  \n",
       "max            NaN  \n",
       "\n",
       "[8 rows x 32 columns]"
      ]
     },
     "execution_count": 6,
     "metadata": {},
     "output_type": "execute_result"
    }
   ],
   "source": [
    "df.describe()"
   ]
  },
  {
   "cell_type": "code",
   "execution_count": 7,
   "id": "studied-library",
   "metadata": {
    "execution": {
     "iopub.execute_input": "2021-06-11T19:51:15.826188Z",
     "iopub.status.busy": "2021-06-11T19:51:15.825251Z",
     "iopub.status.idle": "2021-06-11T19:51:15.828979Z",
     "shell.execute_reply": "2021-06-11T19:51:15.828425Z",
     "shell.execute_reply.started": "2021-06-11T19:02:15.750012Z"
    },
    "papermill": {
     "duration": 0.036014,
     "end_time": "2021-06-11T19:51:15.829121",
     "exception": false,
     "start_time": "2021-06-11T19:51:15.793107",
     "status": "completed"
    },
    "tags": []
   },
   "outputs": [
    {
     "name": "stdout",
     "output_type": "stream",
     "text": [
      "B    357\n",
      "M    212\n",
      "Name: diagnosis, dtype: int64\n"
     ]
    }
   ],
   "source": [
    "print(df['diagnosis'].value_counts())"
   ]
  },
  {
   "cell_type": "code",
   "execution_count": 8,
   "id": "transsexual-chicago",
   "metadata": {
    "execution": {
     "iopub.execute_input": "2021-06-11T19:51:15.894097Z",
     "iopub.status.busy": "2021-06-11T19:51:15.893437Z",
     "iopub.status.idle": "2021-06-11T19:51:15.897137Z",
     "shell.execute_reply": "2021-06-11T19:51:15.896581Z",
     "shell.execute_reply.started": "2021-06-11T19:02:15.759396Z"
    },
    "papermill": {
     "duration": 0.044107,
     "end_time": "2021-06-11T19:51:15.897375",
     "exception": false,
     "start_time": "2021-06-11T19:51:15.853268",
     "status": "completed"
    },
    "tags": []
   },
   "outputs": [
    {
     "name": "stdout",
     "output_type": "stream",
     "text": [
      "<class 'pandas.core.frame.DataFrame'>\n",
      "RangeIndex: 569 entries, 0 to 568\n",
      "Data columns (total 33 columns):\n",
      " #   Column                   Non-Null Count  Dtype  \n",
      "---  ------                   --------------  -----  \n",
      " 0   id                       569 non-null    int64  \n",
      " 1   diagnosis                569 non-null    object \n",
      " 2   radius_mean              569 non-null    float64\n",
      " 3   texture_mean             569 non-null    float64\n",
      " 4   perimeter_mean           569 non-null    float64\n",
      " 5   area_mean                569 non-null    float64\n",
      " 6   smoothness_mean          569 non-null    float64\n",
      " 7   compactness_mean         569 non-null    float64\n",
      " 8   concavity_mean           569 non-null    float64\n",
      " 9   concave points_mean      569 non-null    float64\n",
      " 10  symmetry_mean            569 non-null    float64\n",
      " 11  fractal_dimension_mean   569 non-null    float64\n",
      " 12  radius_se                569 non-null    float64\n",
      " 13  texture_se               569 non-null    float64\n",
      " 14  perimeter_se             569 non-null    float64\n",
      " 15  area_se                  569 non-null    float64\n",
      " 16  smoothness_se            569 non-null    float64\n",
      " 17  compactness_se           569 non-null    float64\n",
      " 18  concavity_se             569 non-null    float64\n",
      " 19  concave points_se        569 non-null    float64\n",
      " 20  symmetry_se              569 non-null    float64\n",
      " 21  fractal_dimension_se     569 non-null    float64\n",
      " 22  radius_worst             569 non-null    float64\n",
      " 23  texture_worst            569 non-null    float64\n",
      " 24  perimeter_worst          569 non-null    float64\n",
      " 25  area_worst               569 non-null    float64\n",
      " 26  smoothness_worst         569 non-null    float64\n",
      " 27  compactness_worst        569 non-null    float64\n",
      " 28  concavity_worst          569 non-null    float64\n",
      " 29  concave points_worst     569 non-null    float64\n",
      " 30  symmetry_worst           569 non-null    float64\n",
      " 31  fractal_dimension_worst  569 non-null    float64\n",
      " 32  Unnamed: 32              0 non-null      float64\n",
      "dtypes: float64(31), int64(1), object(1)\n",
      "memory usage: 146.8+ KB\n"
     ]
    }
   ],
   "source": [
    "df.info()"
   ]
  },
  {
   "cell_type": "code",
   "execution_count": 9,
   "id": "critical-dairy",
   "metadata": {
    "execution": {
     "iopub.execute_input": "2021-06-11T19:51:15.949063Z",
     "iopub.status.busy": "2021-06-11T19:51:15.948402Z",
     "iopub.status.idle": "2021-06-11T19:51:15.953789Z",
     "shell.execute_reply": "2021-06-11T19:51:15.953241Z",
     "shell.execute_reply.started": "2021-06-11T19:02:15.791744Z"
    },
    "papermill": {
     "duration": 0.033008,
     "end_time": "2021-06-11T19:51:15.953931",
     "exception": false,
     "start_time": "2021-06-11T19:51:15.920923",
     "status": "completed"
    },
    "tags": []
   },
   "outputs": [
    {
     "data": {
      "text/plain": [
       "Index(['id', 'diagnosis', 'radius_mean', 'texture_mean', 'perimeter_mean',\n",
       "       'area_mean', 'smoothness_mean', 'compactness_mean', 'concavity_mean',\n",
       "       'concave points_mean', 'symmetry_mean', 'fractal_dimension_mean',\n",
       "       'radius_se', 'texture_se', 'perimeter_se', 'area_se', 'smoothness_se',\n",
       "       'compactness_se', 'concavity_se', 'concave points_se', 'symmetry_se',\n",
       "       'fractal_dimension_se', 'radius_worst', 'texture_worst',\n",
       "       'perimeter_worst', 'area_worst', 'smoothness_worst',\n",
       "       'compactness_worst', 'concavity_worst', 'concave points_worst',\n",
       "       'symmetry_worst', 'fractal_dimension_worst', 'Unnamed: 32'],\n",
       "      dtype='object')"
      ]
     },
     "execution_count": 9,
     "metadata": {},
     "output_type": "execute_result"
    }
   ],
   "source": [
    "df.columns"
   ]
  },
  {
   "cell_type": "code",
   "execution_count": 10,
   "id": "brutal-wisconsin",
   "metadata": {
    "execution": {
     "iopub.execute_input": "2021-06-11T19:51:16.006593Z",
     "iopub.status.busy": "2021-06-11T19:51:16.006009Z",
     "iopub.status.idle": "2021-06-11T19:51:16.009938Z",
     "shell.execute_reply": "2021-06-11T19:51:16.009495Z",
     "shell.execute_reply.started": "2021-06-11T19:02:15.808633Z"
    },
    "papermill": {
     "duration": 0.033404,
     "end_time": "2021-06-11T19:51:16.010083",
     "exception": false,
     "start_time": "2021-06-11T19:51:15.976679",
     "status": "completed"
    },
    "tags": []
   },
   "outputs": [
    {
     "data": {
      "text/plain": [
       "569"
      ]
     },
     "execution_count": 10,
     "metadata": {},
     "output_type": "execute_result"
    }
   ],
   "source": [
    "df.isnull().sum().sum()"
   ]
  },
  {
   "cell_type": "code",
   "execution_count": 11,
   "id": "capable-employer",
   "metadata": {
    "execution": {
     "iopub.execute_input": "2021-06-11T19:51:16.062976Z",
     "iopub.status.busy": "2021-06-11T19:51:16.062113Z",
     "iopub.status.idle": "2021-06-11T19:51:16.067286Z",
     "shell.execute_reply": "2021-06-11T19:51:16.066631Z",
     "shell.execute_reply.started": "2021-06-11T19:02:15.830338Z"
    },
    "papermill": {
     "duration": 0.033187,
     "end_time": "2021-06-11T19:51:16.067524",
     "exception": false,
     "start_time": "2021-06-11T19:51:16.034337",
     "status": "completed"
    },
    "tags": []
   },
   "outputs": [
    {
     "data": {
      "text/plain": [
       "array(['M', 'B'], dtype=object)"
      ]
     },
     "execution_count": 11,
     "metadata": {},
     "output_type": "execute_result"
    }
   ],
   "source": [
    "df['diagnosis'].unique()"
   ]
  },
  {
   "cell_type": "code",
   "execution_count": 12,
   "id": "pursuant-reduction",
   "metadata": {
    "execution": {
     "iopub.execute_input": "2021-06-11T19:51:16.120386Z",
     "iopub.status.busy": "2021-06-11T19:51:16.119767Z",
     "iopub.status.idle": "2021-06-11T19:51:16.123137Z",
     "shell.execute_reply": "2021-06-11T19:51:16.123626Z",
     "shell.execute_reply.started": "2021-06-11T19:02:15.845316Z"
    },
    "papermill": {
     "duration": 0.031838,
     "end_time": "2021-06-11T19:51:16.123823",
     "exception": false,
     "start_time": "2021-06-11T19:51:16.091985",
     "status": "completed"
    },
    "tags": []
   },
   "outputs": [
    {
     "data": {
      "text/plain": [
       "\"\\nY=df['diagnosis']\\ndf=df.drop(['diagnosis'],axis=1)\\ndf.head()\\n\""
      ]
     },
     "execution_count": 12,
     "metadata": {},
     "output_type": "execute_result"
    }
   ],
   "source": [
    "#df = df.drop(['Unnamed: 32'], axis=1)\n",
    "'''\n",
    "Y=df['diagnosis']\n",
    "df=df.drop(['diagnosis'],axis=1)\n",
    "df.head()\n",
    "'''"
   ]
  },
  {
   "cell_type": "code",
   "execution_count": 13,
   "id": "drawn-intervention",
   "metadata": {
    "execution": {
     "iopub.execute_input": "2021-06-11T19:51:16.178684Z",
     "iopub.status.busy": "2021-06-11T19:51:16.178085Z",
     "iopub.status.idle": "2021-06-11T19:51:16.274010Z",
     "shell.execute_reply": "2021-06-11T19:51:16.273447Z",
     "shell.execute_reply.started": "2021-06-11T19:02:15.859983Z"
    },
    "papermill": {
     "duration": 0.125481,
     "end_time": "2021-06-11T19:51:16.274149",
     "exception": false,
     "start_time": "2021-06-11T19:51:16.148668",
     "status": "completed"
    },
    "tags": []
   },
   "outputs": [
    {
     "ename": "NameError",
     "evalue": "name 'Y' is not defined",
     "output_type": "error",
     "traceback": [
      "\u001b[0;31m---------------------------------------------------------------------------\u001b[0m",
      "\u001b[0;31mNameError\u001b[0m                                 Traceback (most recent call last)",
      "\u001b[0;32m<ipython-input-13-8b9e2e7cc5c9>\u001b[0m in \u001b[0;36m<module>\u001b[0;34m\u001b[0m\n\u001b[1;32m      1\u001b[0m \u001b[0mdf\u001b[0m\u001b[0;34m.\u001b[0m\u001b[0mhead\u001b[0m\u001b[0;34m(\u001b[0m\u001b[0;34m)\u001b[0m\u001b[0;34m\u001b[0m\u001b[0;34m\u001b[0m\u001b[0m\n\u001b[0;32m----> 2\u001b[0;31m \u001b[0mprint\u001b[0m\u001b[0;34m(\u001b[0m\u001b[0mY\u001b[0m\u001b[0;34m)\u001b[0m\u001b[0;34m\u001b[0m\u001b[0;34m\u001b[0m\u001b[0m\n\u001b[0m",
      "\u001b[0;31mNameError\u001b[0m: name 'Y' is not defined"
     ]
    }
   ],
   "source": [
    "df.head()\n",
    "print(Y)"
   ]
  },
  {
   "cell_type": "code",
   "execution_count": 14,
   "id": "fresh-gates",
   "metadata": {
    "execution": {
     "iopub.execute_input": "2021-06-11T19:51:16.330732Z",
     "iopub.status.busy": "2021-06-11T19:51:16.330165Z",
     "iopub.status.idle": "2021-06-11T19:51:16.333874Z",
     "shell.execute_reply": "2021-06-11T19:51:16.333449Z",
     "shell.execute_reply.started": "2021-06-11T19:02:15.876270Z"
    },
    "papermill": {
     "duration": 0.034942,
     "end_time": "2021-06-11T19:51:16.334017",
     "exception": false,
     "start_time": "2021-06-11T19:51:16.299075",
     "status": "completed"
    },
    "tags": []
   },
   "outputs": [
    {
     "data": {
      "text/plain": [
       "569"
      ]
     },
     "execution_count": 14,
     "metadata": {},
     "output_type": "execute_result"
    }
   ],
   "source": [
    "df.isnull().sum().sum()"
   ]
  },
  {
   "cell_type": "code",
   "execution_count": 15,
   "id": "systematic-trick",
   "metadata": {
    "execution": {
     "iopub.execute_input": "2021-06-11T19:51:16.388458Z",
     "iopub.status.busy": "2021-06-11T19:51:16.387323Z",
     "iopub.status.idle": "2021-06-11T19:51:16.391473Z",
     "shell.execute_reply": "2021-06-11T19:51:16.390906Z",
     "shell.execute_reply.started": "2021-06-11T19:02:15.894897Z"
    },
    "papermill": {
     "duration": 0.033449,
     "end_time": "2021-06-11T19:51:16.391617",
     "exception": false,
     "start_time": "2021-06-11T19:51:16.358168",
     "status": "completed"
    },
    "tags": []
   },
   "outputs": [
    {
     "data": {
      "text/plain": [
       "array(['M', 'B'], dtype=object)"
      ]
     },
     "execution_count": 15,
     "metadata": {},
     "output_type": "execute_result"
    }
   ],
   "source": [
    "df['diagnosis'].unique()"
   ]
  },
  {
   "cell_type": "code",
   "execution_count": 16,
   "id": "equivalent-rates",
   "metadata": {
    "execution": {
     "iopub.execute_input": "2021-06-11T19:51:16.447271Z",
     "iopub.status.busy": "2021-06-11T19:51:16.446387Z",
     "iopub.status.idle": "2021-06-11T19:51:16.461628Z",
     "shell.execute_reply": "2021-06-11T19:51:16.462176Z",
     "shell.execute_reply.started": "2021-06-11T19:02:15.908935Z"
    },
    "papermill": {
     "duration": 0.045161,
     "end_time": "2021-06-11T19:51:16.462355",
     "exception": false,
     "start_time": "2021-06-11T19:51:16.417194",
     "status": "completed"
    },
    "tags": []
   },
   "outputs": [
    {
     "ename": "NameError",
     "evalue": "name 'Y' is not defined",
     "output_type": "error",
     "traceback": [
      "\u001b[0;31m---------------------------------------------------------------------------\u001b[0m",
      "\u001b[0;31mNameError\u001b[0m                                 Traceback (most recent call last)",
      "\u001b[0;32m<ipython-input-16-8d32eea9a909>\u001b[0m in \u001b[0;36m<module>\u001b[0;34m\u001b[0m\n\u001b[0;32m----> 1\u001b[0;31m \u001b[0mpx\u001b[0m\u001b[0;34m.\u001b[0m\u001b[0mhistogram\u001b[0m\u001b[0;34m(\u001b[0m\u001b[0mdf\u001b[0m\u001b[0;34m,\u001b[0m \u001b[0mY\u001b[0m\u001b[0;34m)\u001b[0m\u001b[0;34m\u001b[0m\u001b[0;34m\u001b[0m\u001b[0m\n\u001b[0m",
      "\u001b[0;31mNameError\u001b[0m: name 'Y' is not defined"
     ]
    }
   ],
   "source": [
    "px.histogram(df, Y)"
   ]
  },
  {
   "cell_type": "code",
   "execution_count": 17,
   "id": "surface-faith",
   "metadata": {
    "collapsed": true,
    "execution": {
     "iopub.execute_input": "2021-06-11T19:51:16.529738Z",
     "iopub.status.busy": "2021-06-11T19:51:16.529122Z",
     "iopub.status.idle": "2021-06-11T19:51:16.533703Z",
     "shell.execute_reply": "2021-06-11T19:51:16.533202Z",
     "shell.execute_reply.started": "2021-06-11T19:02:15.988003Z"
    },
    "jupyter": {
     "outputs_hidden": true,
     "source_hidden": true
    },
    "papermill": {
     "duration": 0.045087,
     "end_time": "2021-06-11T19:51:16.533874",
     "exception": false,
     "start_time": "2021-06-11T19:51:16.488787",
     "status": "completed"
    },
    "tags": []
   },
   "outputs": [
    {
     "ename": "NameError",
     "evalue": "name 'Y' is not defined",
     "output_type": "error",
     "traceback": [
      "\u001b[0;31m---------------------------------------------------------------------------\u001b[0m",
      "\u001b[0;31mNameError\u001b[0m                                 Traceback (most recent call last)",
      "\u001b[0;32m<ipython-input-17-b9c6d1e965f2>\u001b[0m in \u001b[0;36m<module>\u001b[0;34m\u001b[0m\n\u001b[0;32m----> 1\u001b[0;31m \u001b[0mY\u001b[0m\u001b[0;34m.\u001b[0m\u001b[0mvalue_counts\u001b[0m\u001b[0;34m(\u001b[0m\u001b[0;34m)\u001b[0m\u001b[0;34m.\u001b[0m\u001b[0mplot\u001b[0m\u001b[0;34m.\u001b[0m\u001b[0mbar\u001b[0m\u001b[0;34m(\u001b[0m\u001b[0mlegend\u001b[0m\u001b[0;34m=\u001b[0m\u001b[0;32mTrue\u001b[0m\u001b[0;34m)\u001b[0m\u001b[0;34m\u001b[0m\u001b[0;34m\u001b[0m\u001b[0m\n\u001b[0m",
      "\u001b[0;31mNameError\u001b[0m: name 'Y' is not defined"
     ]
    }
   ],
   "source": [
    "Y.value_counts().plot.bar(legend=True)"
   ]
  },
  {
   "cell_type": "markdown",
   "id": "digital-moisture",
   "metadata": {
    "papermill": {
     "duration": 0.024553,
     "end_time": "2021-06-11T19:51:16.583609",
     "exception": false,
     "start_time": "2021-06-11T19:51:16.559056",
     "status": "completed"
    },
    "tags": []
   },
   "source": [
    "**Plotting Radius of Cell ( mean , standard error, worst)**"
   ]
  },
  {
   "cell_type": "code",
   "execution_count": 18,
   "id": "little-georgia",
   "metadata": {
    "collapsed": true,
    "execution": {
     "iopub.execute_input": "2021-06-11T19:51:16.640632Z",
     "iopub.status.busy": "2021-06-11T19:51:16.639967Z",
     "iopub.status.idle": "2021-06-11T19:51:19.047539Z",
     "shell.execute_reply": "2021-06-11T19:51:19.048152Z",
     "shell.execute_reply.started": "2021-06-11T19:05:15.190732Z"
    },
    "jupyter": {
     "outputs_hidden": true,
     "source_hidden": true
    },
    "papermill": {
     "duration": 2.439837,
     "end_time": "2021-06-11T19:51:19.048350",
     "exception": false,
     "start_time": "2021-06-11T19:51:16.608513",
     "status": "completed"
    },
    "tags": []
   },
   "outputs": [
    {
     "data": {
      "text/plain": [
       "<seaborn.axisgrid.PairGrid at 0x7ff212654c90>"
      ]
     },
     "execution_count": 18,
     "metadata": {},
     "output_type": "execute_result"
    },
    {
     "data": {
      "image/png": "[encoded data removed]",
      "text/plain": [
       "<Figure size 595.5x540 with 12 Axes>"
      ]
     },
     "metadata": {
      "needs_background": "light"
     },
     "output_type": "display_data"
    }
   ],
   "source": [
    "radius = df[['radius_mean','radius_se','radius_worst', 'diagnosis' ]]\n",
    "sns.pairplot(radius,hue='diagnosis')"
   ]
  },
  {
   "cell_type": "markdown",
   "id": "dietary-toronto",
   "metadata": {
    "papermill": {
     "duration": 0.029265,
     "end_time": "2021-06-11T19:51:19.120401",
     "exception": false,
     "start_time": "2021-06-11T19:51:19.091136",
     "status": "completed"
    },
    "tags": []
   },
   "source": [
    "**Plotting texture of Cell ( mean , standard error, worst)**"
   ]
  },
  {
   "cell_type": "code",
   "execution_count": 19,
   "id": "agricultural-salvation",
   "metadata": {
    "collapsed": true,
    "execution": {
     "iopub.execute_input": "2021-06-11T19:51:19.241115Z",
     "iopub.status.busy": "2021-06-11T19:51:19.184855Z",
     "iopub.status.idle": "2021-06-11T19:51:21.556043Z",
     "shell.execute_reply": "2021-06-11T19:51:21.555213Z",
     "shell.execute_reply.started": "2021-06-11T19:07:07.304415Z"
    },
    "jupyter": {
     "outputs_hidden": true
    },
    "papermill": {
     "duration": 2.407588,
     "end_time": "2021-06-11T19:51:21.556267",
     "exception": false,
     "start_time": "2021-06-11T19:51:19.148679",
     "status": "completed"
    },
    "tags": []
   },
   "outputs": [
    {
     "data": {
      "text/plain": [
       "<seaborn.axisgrid.PairGrid at 0x7ff205d87510>"
      ]
     },
     "execution_count": 19,
     "metadata": {},
     "output_type": "execute_result"
    },
    {
     "data": {
      "image/png": "[encoded data removed]",
      "text/plain": [
       "<Figure size 595.5x540 with 12 Axes>"
      ]
     },
     "metadata": {
      "needs_background": "light"
     },
     "output_type": "display_data"
    }
   ],
   "source": [
    "texture=df[['texture_mean', 'texture_se', 'texture_worst', 'diagnosis']]\n",
    "sns.pairplot(texture,hue='diagnosis')"
   ]
  },
  {
   "cell_type": "markdown",
   "id": "centered-native",
   "metadata": {
    "papermill": {
     "duration": 0.030716,
     "end_time": "2021-06-11T19:51:21.623264",
     "exception": false,
     "start_time": "2021-06-11T19:51:21.592548",
     "status": "completed"
    },
    "tags": []
   },
   "source": [
    "**Plotting perimeter of cell(mean, se, worst)**"
   ]
  },
  {
   "cell_type": "code",
   "execution_count": null,
   "id": "minor-wrestling",
   "metadata": {
    "collapsed": true,
    "execution": {
     "iopub.execute_input": "2021-06-11T19:09:47.545845Z",
     "iopub.status.busy": "2021-06-11T19:09:47.545307Z",
     "iopub.status.idle": "2021-06-11T19:09:50.270765Z",
     "shell.execute_reply": "2021-06-11T19:09:50.269574Z",
     "shell.execute_reply.started": "2021-06-11T19:09:47.545810Z"
    },
    "jupyter": {
     "outputs_hidden": true,
     "source_hidden": true
    },
    "papermill": {
     "duration": null,
     "end_time": null,
     "exception": false,
     "start_time": "2021-06-11T19:51:21.654216",
     "status": "running"
    },
    "tags": []
   },
   "outputs": [],
   "source": [
    "perimeter = df[['perimeter_mean', 'perimeter_se','perimeter_worst','diagnosis']]\n",
    "sns.pairplot(perimeter,hue='diagnosis')"
   ]
  },
  {
   "cell_type": "markdown",
   "id": "boolean-designer",
   "metadata": {
    "papermill": {
     "duration": null,
     "end_time": null,
     "exception": null,
     "start_time": null,
     "status": "pending"
    },
    "tags": []
   },
   "source": []
  },
  {
   "cell_type": "markdown",
   "id": "sporting-tunisia",
   "metadata": {
    "papermill": {
     "duration": null,
     "end_time": null,
     "exception": null,
     "start_time": null,
     "status": "pending"
    },
    "tags": []
   },
   "source": [
    "**Plotting area of cell(mean, se, worst)**"
   ]
  },
  {
   "cell_type": "code",
   "execution_count": null,
   "id": "alpine-forward",
   "metadata": {
    "collapsed": true,
    "jupyter": {
     "outputs_hidden": true,
     "source_hidden": true
    },
    "papermill": {
     "duration": null,
     "end_time": null,
     "exception": null,
     "start_time": null,
     "status": "pending"
    },
    "tags": []
   },
   "outputs": [],
   "source": [
    "area = df[['area_mean', 'area_se','area_worst','diagnosis']]\n",
    "sns.pairplot(area,hue='diagnosis')"
   ]
  },
  {
   "cell_type": "markdown",
   "id": "martial-aging",
   "metadata": {
    "papermill": {
     "duration": null,
     "end_time": null,
     "exception": null,
     "start_time": null,
     "status": "pending"
    },
    "tags": []
   },
   "source": [
    "**Plotting smoothness of cell(mean, se, worst)**"
   ]
  },
  {
   "cell_type": "code",
   "execution_count": null,
   "id": "proprietary-footwear",
   "metadata": {
    "collapsed": true,
    "execution": {
     "iopub.execute_input": "2021-06-11T19:16:59.758660Z",
     "iopub.status.busy": "2021-06-11T19:16:59.758271Z",
     "iopub.status.idle": "2021-06-11T19:17:03.072090Z",
     "shell.execute_reply": "2021-06-11T19:17:03.070987Z",
     "shell.execute_reply.started": "2021-06-11T19:16:59.758626Z"
    },
    "jupyter": {
     "outputs_hidden": true,
     "source_hidden": true
    },
    "papermill": {
     "duration": null,
     "end_time": null,
     "exception": null,
     "start_time": null,
     "status": "pending"
    },
    "tags": []
   },
   "outputs": [],
   "source": [
    "smoothness = df[['smoothness_mean', 'smoothness_se','smoothness_worst','diagnosis']]\n",
    "sns.pairplot(smoothness,hue='diagnosis')"
   ]
  },
  {
   "cell_type": "markdown",
   "id": "intellectual-exception",
   "metadata": {
    "papermill": {
     "duration": null,
     "end_time": null,
     "exception": null,
     "start_time": null,
     "status": "pending"
    },
    "tags": []
   },
   "source": [
    "**Plotting compactness of cell(mean, se, worst)**"
   ]
  },
  {
   "cell_type": "code",
   "execution_count": null,
   "id": "smoking-shark",
   "metadata": {
    "collapsed": true,
    "execution": {
     "iopub.execute_input": "2021-06-11T19:19:13.437231Z",
     "iopub.status.busy": "2021-06-11T19:19:13.436662Z",
     "iopub.status.idle": "2021-06-11T19:19:16.296636Z",
     "shell.execute_reply": "2021-06-11T19:19:16.295458Z",
     "shell.execute_reply.started": "2021-06-11T19:19:13.437170Z"
    },
    "jupyter": {
     "outputs_hidden": true
    },
    "papermill": {
     "duration": null,
     "end_time": null,
     "exception": null,
     "start_time": null,
     "status": "pending"
    },
    "tags": []
   },
   "outputs": [],
   "source": [
    "compactness=df[['compactness_mean', 'compactness_se', 'compactness_worst', 'diagnosis']]\n",
    "sns.pairplot(compactness,hue='diagnosis')"
   ]
  },
  {
   "cell_type": "markdown",
   "id": "genetic-islam",
   "metadata": {
    "papermill": {
     "duration": null,
     "end_time": null,
     "exception": null,
     "start_time": null,
     "status": "pending"
    },
    "tags": []
   },
   "source": [
    " **Plotting concavity of cell(mean, se, worst)**"
   ]
  },
  {
   "cell_type": "code",
   "execution_count": null,
   "id": "tracked-mainland",
   "metadata": {
    "collapsed": true,
    "execution": {
     "iopub.execute_input": "2021-06-11T19:20:48.237319Z",
     "iopub.status.busy": "2021-06-11T19:20:48.236919Z",
     "iopub.status.idle": "2021-06-11T19:20:51.141330Z",
     "shell.execute_reply": "2021-06-11T19:20:51.140060Z",
     "shell.execute_reply.started": "2021-06-11T19:20:48.237285Z"
    },
    "jupyter": {
     "outputs_hidden": true,
     "source_hidden": true
    },
    "papermill": {
     "duration": null,
     "end_time": null,
     "exception": null,
     "start_time": null,
     "status": "pending"
    },
    "tags": []
   },
   "outputs": [],
   "source": [
    "concavity=df[['concavity_mean', 'concavity_se', 'concavity_worst', 'diagnosis']]\n",
    "sns.pairplot(concavity,hue='diagnosis')"
   ]
  },
  {
   "cell_type": "markdown",
   "id": "processed-climb",
   "metadata": {
    "papermill": {
     "duration": null,
     "end_time": null,
     "exception": null,
     "start_time": null,
     "status": "pending"
    },
    "tags": []
   },
   "source": [
    "**Plotting concave points of cell(mean, se, worst)**"
   ]
  },
  {
   "cell_type": "code",
   "execution_count": null,
   "id": "foreign-wisconsin",
   "metadata": {
    "collapsed": true,
    "execution": {
     "iopub.execute_input": "2021-06-11T19:24:16.182914Z",
     "iopub.status.busy": "2021-06-11T19:24:16.182395Z",
     "iopub.status.idle": "2021-06-11T19:24:19.133164Z",
     "shell.execute_reply": "2021-06-11T19:24:19.132025Z",
     "shell.execute_reply.started": "2021-06-11T19:24:16.182882Z"
    },
    "jupyter": {
     "outputs_hidden": true,
     "source_hidden": true
    },
    "papermill": {
     "duration": null,
     "end_time": null,
     "exception": null,
     "start_time": null,
     "status": "pending"
    },
    "tags": []
   },
   "outputs": [],
   "source": [
    "concave_points=df[['concave points_mean', 'concave points_se', 'concave points_worst', 'diagnosis']]\n",
    "sns.pairplot(concave_points,hue='diagnosis')"
   ]
  },
  {
   "cell_type": "markdown",
   "id": "polish-civilization",
   "metadata": {
    "papermill": {
     "duration": null,
     "end_time": null,
     "exception": null,
     "start_time": null,
     "status": "pending"
    },
    "tags": []
   },
   "source": [
    "**Plotting symmetry of cell(mean, se, worst)**"
   ]
  },
  {
   "cell_type": "code",
   "execution_count": null,
   "id": "packed-feelings",
   "metadata": {
    "collapsed": true,
    "execution": {
     "iopub.execute_input": "2021-06-11T19:25:43.109215Z",
     "iopub.status.busy": "2021-06-11T19:25:43.108802Z",
     "iopub.status.idle": "2021-06-11T19:25:46.365308Z",
     "shell.execute_reply": "2021-06-11T19:25:46.364172Z",
     "shell.execute_reply.started": "2021-06-11T19:25:43.109180Z"
    },
    "jupyter": {
     "outputs_hidden": true,
     "source_hidden": true
    },
    "papermill": {
     "duration": null,
     "end_time": null,
     "exception": null,
     "start_time": null,
     "status": "pending"
    },
    "tags": []
   },
   "outputs": [],
   "source": [
    "symmetry=df[['symmetry_mean', 'symmetry_se', 'symmetry_worst', 'diagnosis']]\n",
    "sns.pairplot(symmetry,hue='diagnosis')"
   ]
  },
  {
   "cell_type": "markdown",
   "id": "breeding-specification",
   "metadata": {
    "papermill": {
     "duration": null,
     "end_time": null,
     "exception": null,
     "start_time": null,
     "status": "pending"
    },
    "tags": []
   },
   "source": [
    "**Plotting fractal_dimension of cell(mean, se, worst)**"
   ]
  },
  {
   "cell_type": "code",
   "execution_count": null,
   "id": "horizontal-testing",
   "metadata": {
    "collapsed": true,
    "execution": {
     "iopub.execute_input": "2021-06-11T19:26:54.180764Z",
     "iopub.status.busy": "2021-06-11T19:26:54.180388Z",
     "iopub.status.idle": "2021-06-11T19:26:57.309459Z",
     "shell.execute_reply": "2021-06-11T19:26:57.308212Z",
     "shell.execute_reply.started": "2021-06-11T19:26:54.180733Z"
    },
    "jupyter": {
     "outputs_hidden": true,
     "source_hidden": true
    },
    "papermill": {
     "duration": null,
     "end_time": null,
     "exception": null,
     "start_time": null,
     "status": "pending"
    },
    "tags": []
   },
   "outputs": [],
   "source": [
    "fractal_dimension=df[['fractal_dimension_mean', 'fractal_dimension_se', 'fractal_dimension_worst', 'diagnosis']]\n",
    "sns.pairplot(fractal_dimension,hue='diagnosis')"
   ]
  },
  {
   "cell_type": "code",
   "execution_count": null,
   "id": "trying-somerset",
   "metadata": {
    "execution": {
     "iopub.execute_input": "2021-06-11T19:27:58.469258Z",
     "iopub.status.busy": "2021-06-11T19:27:58.468866Z",
     "iopub.status.idle": "2021-06-11T19:28:03.108764Z",
     "shell.execute_reply": "2021-06-11T19:28:03.107861Z",
     "shell.execute_reply.started": "2021-06-11T19:27:58.469225Z"
    },
    "papermill": {
     "duration": null,
     "end_time": null,
     "exception": null,
     "start_time": null,
     "status": "pending"
    },
    "tags": []
   },
   "outputs": [],
   "source": [
    "plt.figure(figsize=(30,30))\n",
    "sns.heatmap(df.corr(),annot=True)"
   ]
  },
  {
   "cell_type": "code",
   "execution_count": null,
   "id": "binding-cornwall",
   "metadata": {
    "papermill": {
     "duration": null,
     "end_time": null,
     "exception": null,
     "start_time": null,
     "status": "pending"
    },
    "tags": []
   },
   "outputs": [],
   "source": []
  }
 ],
 "metadata": {
  "kernelspec": {
   "display_name": "Python 3",
   "language": "python",
   "name": "python3"
  },
  "language_info": {
   "codemirror_mode": {
    "name": "ipython",
    "version": 3
   },
   "file_extension": ".py",
   "mimetype": "text/x-python",
   "name": "python",
   "nbconvert_exporter": "python",
   "pygments_lexer": "ipython3",
   "version": "3.6.4"
  },
  "papermill": {
   "default_parameters": {},
   "duration": null,
   "end_time": null,
   "environment_variables": {},
   "exception": null,
   "input_path": "__notebook__.ipynb",
   "output_path": "__notebook__.ipynb",
   "parameters": {},
   "start_time": "2021-06-11T19:51:04.971346",
   "version": "2.3.3"
  }
 },
 "nbformat": 4,
 "nbformat_minor": 5
}